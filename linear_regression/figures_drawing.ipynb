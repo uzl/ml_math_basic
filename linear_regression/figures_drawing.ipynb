{
 "cells": [
  {
   "cell_type": "code",
   "execution_count": null,
   "metadata": {},
   "outputs": [],
   "source": [
    "import numpy as np\n",
    "import matplotlib.pyplot as plt\n",
    "from scipy.interpolate import make_interp_spline, BSpline\n",
    "\n",
    "np.random.seed(42)\n"
   ]
  },
  {
   "cell_type": "code",
   "execution_count": null,
   "metadata": {},
   "outputs": [],
   "source": [
    "\n",
    "\n",
    "def generate_sine_data(n=100):\n",
    "    x = np.random.uniform(-0.5, (2 * np.pi)-0.5, n)\n",
    "    x = np.sort(x)\n",
    "    y = np.sin(x) + np.random.normal(0, 0.1, n)\n",
    "    y_real = np.sin(x)\n",
    "    return x, y, y_real\n",
    "\n",
    "\n",
    "def plot_sine_data_scatter(x, y):\n",
    "    plt.scatter(x, y, s=5, color=\"blue\")\n",
    "    plt.xlabel(\"x\")\n",
    "    plt.ylabel(\"y\")\n",
    "    plt.show()\n",
    "\n",
    "\n",
    "def plot_sine_data_line(x, y, y_real):\n",
    "    plt.scatter(x, y, s=5, color=\"blue\")\n",
    "    xnew = np.linspace(x.min(), x.max(), 300)\n",
    "    spl = make_interp_spline(x, y_real, k=3)  # type: BSpline\n",
    "    y_smooth = spl(xnew)\n",
    "    plt.plot(xnew, y_smooth, color=\"gray\")\n",
    "    plt.xlabel(\"x\")\n",
    "    plt.ylabel(\"y\")\n",
    "    plt.show()\n",
    "\n",
    "x, y, y_real = generate_sine_data()\n",
    "plot_sine_data_scatter(x, y)\n",
    "plot_sine_data_line(x, y, y_real)\n"
   ]
  }
 ],
 "metadata": {
  "kernelspec": {
   "display_name": "py38_fahim_26jan",
   "language": "python",
   "name": "python3"
  },
  "language_info": {
   "codemirror_mode": {
    "name": "ipython",
    "version": 3
   },
   "file_extension": ".py",
   "mimetype": "text/x-python",
   "name": "python",
   "nbconvert_exporter": "python",
   "pygments_lexer": "ipython3",
   "version": "3.8.16"
  },
  "orig_nbformat": 4
 },
 "nbformat": 4,
 "nbformat_minor": 2
}
